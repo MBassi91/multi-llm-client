{
 "cells": [
  {
   "cell_type": "code",
   "execution_count": 2,
   "id": "75431dcb-0c19-4c65-af1c-2ee980743a27",
   "metadata": {
    "tags": []
   },
   "outputs": [
    {
     "name": "stdout",
     "output_type": "stream",
     "text": [
      "Generated text:\n",
      "Once upon a time, in a faraway land, there was a beautiful princess named Anya. She lived in a magnificent castle with her parents, the king and queen. Anya was kind and compassionate, and she loved to help those in need. One day, a terrible storm swept through the kingdom, and the castle was badly damaged. The king and queen were injured, and Anya was left alone to care for them. She worked tirelessly to nurse them back to health, and she never gave up hope. Eventually, the king and queen recovered, and the castle was rebuilt. Anya was hailed as a hero, and she continued to rule the kingdom with kindness and compassion.\n",
      "\n",
      "Optimized prompt:\n",
      "As a master storyteller, weave a captivating tale of a magical adventure. In a realm where talking animals roam and legendary treasures await discovery, a young adventurer embarks on a quest to save the day. Let your imagination soar and craft a story that will transport readers to a world of wonder and enchantment.\n",
      "\n",
      "Generated text with optimized prompt:\n",
      "In the realm of Evergreena, where the trees whispered secrets and the rivers flowed with liquid silver, there lived a young adventurer named Anya. With her heart as pure as the morning dew and a spirit as bright as the summer sun, she yearned for a life beyond the ordinary.\n",
      "\n",
      "One fateful day, as Anya skipped through the Enchanted Forest, she stumbled upon a talking squirrel named Hazel. With eyes that sparkled like emeralds and a voice as sweet as honey, Hazel revealed a tale of a legendary treasure hidden within the heart of the Shadow Mountains. It was said to possess the power to grant any wish, but it was guarded by a fearsome dragon.\n",
      "\n",
      "Undeterred, Anya's heart skipped a beat with excitement. She had always dreamed of embarking on a grand adventure, and this was her chance. With Hazel as her guide, she set off into the unknown.\n",
      "\n",
      "Their journey led them through treacherous ravines and across shimmering lakes. They encountered a wise old owl who shared secrets of the forest and a mischievous fox who played tricks on them. Along the way, Anya's courage and determination grew with each challenge she faced.\n",
      "\n",
      "Finally, they reached the Shadow Mountains. As they approached the dragon's lair, the air grew heavy with anticipation. Anya took a deep breath and stepped inside.\n",
      "\n",
      "There, in the dim light, lay the legendary treasure—a shimmering orb that pulsed with an otherworldly glow. But as Anya reached out to claim it, the dragon awoke from its slumber. Its scales glistened like obsidian, and its eyes burned with an infernal fire.\n",
      "\n",
      "Anya's heart pounded in her chest, but she refused to give up. With Hazel's help, she devised a plan. Using the fox's cunning and the owl's wisdom, they distracted the dragon while Anya seized the orb.\n",
      "\n",
      "As they escaped the lair, the dragon roared in fury, but it was too late. Anya had the treasure, and with it, the power to grant any wish.\n",
      "\n",
      "But Anya knew that true happiness lay not in material wealth but in the journey itself. She used the orb to restore balance to Evergreena, healing the sick, feeding the hungry, and bringing joy to all who crossed her path.\n",
      "\n",
      "And so, Anya's name became a legend in the realm of Evergreena. She was remembered not only as the adventurer who retrieved the legendary treasure but as the young woman who used its power to make the world a better place.\n"
     ]
    }
   ],
   "source": [
    "from vertexai_client import VertexAILLM\n",
    "\n",
    "# Initialize the Vertex AI LLM client\n",
    "client = VertexAILLM(\n",
    "    model_name=\"gemini-1.0\",\n",
    ")\n",
    "\n",
    "# Generate text using the client\n",
    "text_input = \"Once upon a time, in a faraway land, there was a\"\n",
    "response = client.generate_text(text_input)\n",
    "print(\"Generated text:\")\n",
    "print(response)\n",
    "\n",
    "# Optimize a system prompt using few-shot examples\n",
    "system_prompt = \"Write a short story about a magical adventure.\"\n",
    "few_shots = [\n",
    "    \"Example 1: In a enchanted forest, a brave young girl named Lily discovered a hidden portal that led her to a world filled with talking animals and magical creatures. With the help of her new friends, she embarked on a quest to find a legendary treasure and save the magical realm from an evil sorcerer.\",\n",
    "    \"Example 2: Max, a curious boy, stumbled upon an old book in his grandfather's attic. As he opened the book, he was transported to a mystical land where dragons roamed the skies and wizards cast powerful spells. Max soon realized that he was the chosen one, destined to bring peace to the land by uniting the feuding dragons and wizards.\"\n",
    "]\n",
    "\n",
    "optimized_prompt = client.prompt_optimizer(\n",
    "    system_prompt,\n",
    "    few_shots=few_shots,\n",
    "    few_shots_limit=2\n",
    ")\n",
    "\n",
    "print(\"\\nOptimized prompt:\")\n",
    "print(optimized_prompt)\n",
    "\n",
    "# Generate text using the optimized prompt\n",
    "optimized_response = client.generate_text(optimized_prompt)\n",
    "print(\"\\nGenerated text with optimized prompt:\")\n",
    "print(optimized_response)"
   ]
  },
  {
   "cell_type": "code",
   "execution_count": null,
   "id": "8a238ac5-cfba-4056-9af6-3e6dd1d196b3",
   "metadata": {},
   "outputs": [],
   "source": []
  }
 ],
 "metadata": {
  "environment": {
   "kernel": "python3",
   "name": "common-cpu.m113",
   "type": "gcloud",
   "uri": "gcr.io/deeplearning-platform-release/base-cpu:m113"
  },
  "kernelspec": {
   "display_name": "Python 3",
   "language": "python",
   "name": "python3"
  },
  "language_info": {
   "codemirror_mode": {
    "name": "ipython",
    "version": 3
   },
   "file_extension": ".py",
   "mimetype": "text/x-python",
   "name": "python",
   "nbconvert_exporter": "python",
   "pygments_lexer": "ipython3",
   "version": "3.10.13"
  }
 },
 "nbformat": 4,
 "nbformat_minor": 5
}
